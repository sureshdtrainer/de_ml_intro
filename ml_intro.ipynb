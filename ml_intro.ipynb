{
 "cells": [
  {
   "cell_type": "code",
   "execution_count": null,
   "id": "17fc1b12-d955-432c-a261-d0dfe24767c3",
   "metadata": {},
   "outputs": [],
   "source": [
    "# We have online music store, based on gender male or female we have \n",
    "# to recommend them the type of music to buy\n",
    "\n",
    "#We need to build a ML model based on some historic data and provide suggestion/prediction based on it.\n",
    "\n",
    "#1. Import the historic data\n",
    "#2. Analyse and Clean the data\n",
    "#3. Split the data in Training Sets / Testing sets\n",
    "#4. Create a Model\n",
    "#5. Train the above created Model and persist it\n",
    "#6. Use the above persisted model for making prediction\n",
    "#7. Evaluate and keep improving\n",
    "\n"
   ]
  },
  {
   "cell_type": "markdown",
   "id": "b0b55c3b-84de-4806-9f68-e9b5ffc8abf1",
   "metadata": {},
   "source": [
    "## 1. Import the historic data\n",
    "import pandas as pd\n",
    "\n",
    "df_music=pd.read_csv('music.csv')\n",
    "df_music\n",
    "\n",
    "#2. skipping as data is clean"
   ]
  },
  {
   "cell_type": "code",
   "execution_count": 7,
   "id": "6b4c7415-c659-4057-892d-57aa1225d1e2",
   "metadata": {},
   "outputs": [
    {
     "data": {
      "text/plain": [
       "0        HipHop\n",
       "1        HipHop\n",
       "2        HipHop\n",
       "3          Jazz\n",
       "4          Jazz\n",
       "5          Jazz\n",
       "6     Classical\n",
       "7     Classical\n",
       "8     Classical\n",
       "9         Dance\n",
       "10        Dance\n",
       "11        Dance\n",
       "12     Acoustic\n",
       "13     Acoustic\n",
       "14     Acoustic\n",
       "15    Classical\n",
       "16    Classical\n",
       "17    Classical\n",
       "Name: genre, dtype: object"
      ]
     },
     "execution_count": 7,
     "metadata": {},
     "output_type": "execute_result"
    }
   ],
   "source": [
    "#3. Split the data into Input Set and Output Set\n",
    "X = df_music.drop(columns=['genre']) #Input Set\n",
    "X\n",
    "y= df_music['genre'] #OutputSet\n",
    "y"
   ]
  },
  {
   "cell_type": "code",
   "execution_count": 12,
   "id": "fadae1d3-3247-4a74-b5a3-0592ae026343",
   "metadata": {},
   "outputs": [
    {
     "name": "stderr",
     "output_type": "stream",
     "text": [
      "C:\\Users\\Administrator\\AppData\\Local\\Programs\\Python\\Python311\\Lib\\site-packages\\sklearn\\utils\\validation.py:2749: UserWarning: X does not have valid feature names, but DecisionTreeClassifier was fitted with feature names\n",
      "  warnings.warn(\n"
     ]
    },
    {
     "data": {
      "text/plain": [
       "array(['HipHop', 'Dance'], dtype=object)"
      ]
     },
     "execution_count": 12,
     "metadata": {},
     "output_type": "execute_result"
    }
   ],
   "source": [
    "#4. Build the model using ML algorithm\n",
    "from sklearn.tree import DecisionTreeClassifier\n",
    "model = DecisionTreeClassifier() #create a model using decision tree algorithm\n",
    "\n",
    "#5. Train the model\n",
    "model.fit(X, y) #X- input set y - output set\n",
    "\n",
    "#6. now try recommendation/pediction\n",
    "#predictions = model.predict([[21,1]])\n",
    "#predictions = model.predict([[22,0]])\n",
    "predictions = model.predict([[21,1],[20,0]])\n",
    "predictions"
   ]
  },
  {
   "cell_type": "code",
   "execution_count": 15,
   "id": "2540a3bc-80e8-4346-add4-efd748a3a232",
   "metadata": {},
   "outputs": [
    {
     "data": {
      "text/html": [
       "<div>\n",
       "<style scoped>\n",
       "    .dataframe tbody tr th:only-of-type {\n",
       "        vertical-align: middle;\n",
       "    }\n",
       "\n",
       "    .dataframe tbody tr th {\n",
       "        vertical-align: top;\n",
       "    }\n",
       "\n",
       "    .dataframe thead th {\n",
       "        text-align: right;\n",
       "    }\n",
       "</style>\n",
       "<table border=\"1\" class=\"dataframe\">\n",
       "  <thead>\n",
       "    <tr style=\"text-align: right;\">\n",
       "      <th></th>\n",
       "      <th>age</th>\n",
       "      <th>gender</th>\n",
       "    </tr>\n",
       "  </thead>\n",
       "  <tbody>\n",
       "    <tr>\n",
       "      <th>13</th>\n",
       "      <td>27</td>\n",
       "      <td>0</td>\n",
       "    </tr>\n",
       "    <tr>\n",
       "      <th>3</th>\n",
       "      <td>26</td>\n",
       "      <td>1</td>\n",
       "    </tr>\n",
       "    <tr>\n",
       "      <th>7</th>\n",
       "      <td>33</td>\n",
       "      <td>1</td>\n",
       "    </tr>\n",
       "    <tr>\n",
       "      <th>11</th>\n",
       "      <td>25</td>\n",
       "      <td>0</td>\n",
       "    </tr>\n",
       "  </tbody>\n",
       "</table>\n",
       "</div>"
      ],
      "text/plain": [
       "    age  gender\n",
       "13   27       0\n",
       "3    26       1\n",
       "7    33       1\n",
       "11   25       0"
      ]
     },
     "execution_count": 15,
     "metadata": {},
     "output_type": "execute_result"
    }
   ],
   "source": [
    "#3. Split the data in Training Sets / Testing sets\n",
    "from sklearn.model_selection import train_test_split\n",
    "\n",
    "X_train, X_test, y_train, y_test = train_test_split(X,y,test_size=0.2)\n",
    "\n",
    "model= DecisionTreeClassifier() #create the model\n",
    "model.fit(X_train, y_train)   #train with 80% of historic data\n",
    "\n",
    "predictions= model.predict(X_test)\n",
    "\n",
    "X_test"
   ]
  },
  {
   "cell_type": "code",
   "execution_count": 17,
   "id": "ab41a1ed-7229-42e5-81f6-c4292a25c8e3",
   "metadata": {},
   "outputs": [
    {
     "data": {
      "text/plain": [
       "array(['Acoustic', 'Jazz', 'Classical', 'Dance'], dtype=object)"
      ]
     },
     "execution_count": 17,
     "metadata": {},
     "output_type": "execute_result"
    }
   ],
   "source": [
    "predictions"
   ]
  },
  {
   "cell_type": "code",
   "execution_count": 37,
   "id": "fd678c9c-c930-429b-8a45-6e2ef4a89e4c",
   "metadata": {},
   "outputs": [
    {
     "data": {
      "text/plain": [
       "1.0"
      ]
     },
     "execution_count": 37,
     "metadata": {},
     "output_type": "execute_result"
    }
   ],
   "source": [
    "#7. Evaluate the models performance by checking the accuracy score\n",
    "from sklearn.metrics import accuracy_score\n",
    "\n",
    "X_train, X_test, y_train, y_test = train_test_split(X,y,test_size=0.2)\n",
    "\n",
    "model= DecisionTreeClassifier() #create the model\n",
    "model.fit(X_train, y_train)   #train with 80% of historic data\n",
    "\n",
    "predictions= model.predict(X_test)\n",
    "\n",
    "score = accuracy_score(y_test, predictions)\n",
    "score"
   ]
  },
  {
   "cell_type": "code",
   "execution_count": 38,
   "id": "b74ee783-a7db-4aa0-9b06-74a195d06751",
   "metadata": {},
   "outputs": [
    {
     "data": {
      "text/plain": [
       "['music-predictor.joblib']"
      ]
     },
     "execution_count": 38,
     "metadata": {},
     "output_type": "execute_result"
    }
   ],
   "source": [
    "#5. Persist the model\n",
    "import joblib\n",
    "\n",
    "model = DecisionTreeClassifier() #create a model using decision tree algorithm\n",
    "\n",
    "#5. Train the model\n",
    "model.fit(X, y) #X- input set y - output set\n",
    "\n",
    "joblib.dump(model, 'music-predictor.joblib')\n"
   ]
  },
  {
   "cell_type": "code",
   "execution_count": 39,
   "id": "c35f427c-1a7c-4d80-bc93-7258d05e3bc2",
   "metadata": {},
   "outputs": [
    {
     "name": "stderr",
     "output_type": "stream",
     "text": [
      "C:\\Users\\Administrator\\AppData\\Local\\Programs\\Python\\Python311\\Lib\\site-packages\\sklearn\\utils\\validation.py:2749: UserWarning: X does not have valid feature names, but DecisionTreeClassifier was fitted with feature names\n",
      "  warnings.warn(\n"
     ]
    },
    {
     "data": {
      "text/plain": [
       "array(['HipHop', 'Dance'], dtype=object)"
      ]
     },
     "execution_count": 39,
     "metadata": {},
     "output_type": "execute_result"
    }
   ],
   "source": [
    "#7. Load the model and use it for suggestion/prediction\n",
    "model=joblib.load('music-predictor.joblib')\n",
    "predictions = model.predict([[21,1],[20,0]])\n",
    "predictions"
   ]
  },
  {
   "cell_type": "code",
   "execution_count": 40,
   "id": "cc746a77-cdb4-40f4-bffb-98ee628d5323",
   "metadata": {},
   "outputs": [],
   "source": [
    "#View the decision tree graph for our trained model with historic data\n",
    "from sklearn import tree\n",
    "\n",
    "tree.export_graphviz(model, out_file='music-predictor.dot', \n",
    "                     feature_names=['age','gender'],\n",
    "                    class_names=sorted(y.unique()),\n",
    "                     label='all',\n",
    "                     rounded=True,\n",
    "                     filled=True\n",
    "                    )"
   ]
  },
  {
   "cell_type": "code",
   "execution_count": null,
   "id": "c1cc3801-785c-4dd4-89a3-b81e427f6318",
   "metadata": {},
   "outputs": [],
   "source": []
  }
 ],
 "metadata": {
  "kernelspec": {
   "display_name": "Python 3 (ipykernel)",
   "language": "python",
   "name": "python3"
  },
  "language_info": {
   "codemirror_mode": {
    "name": "ipython",
    "version": 3
   },
   "file_extension": ".py",
   "mimetype": "text/x-python",
   "name": "python",
   "nbconvert_exporter": "python",
   "pygments_lexer": "ipython3",
   "version": "3.11.6"
  }
 },
 "nbformat": 4,
 "nbformat_minor": 5
}
